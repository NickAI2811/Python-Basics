{
  "nbformat": 4,
  "nbformat_minor": 0,
  "metadata": {
    "colab": {
      "provenance": []
    },
    "kernelspec": {
      "name": "python3",
      "display_name": "Python 3"
    },
    "language_info": {
      "name": "python"
    }
  },
  "cells": [
    {
      "cell_type": "code",
      "execution_count": 1,
      "metadata": {
        "colab": {
          "base_uri": "https://localhost:8080/"
        },
        "id": "MAJUQUb6qega",
        "outputId": "465123b3-c1fc-47e2-af43-a0c1201a19d4"
      },
      "outputs": [
        {
          "output_type": "stream",
          "name": "stdout",
          "text": [
            "Hello, World!\n"
          ]
        }
      ],
      "source": [
        "# 1. Write a python program to print \"Hello, World!\"\n",
        "print(\"Hello, World!\")"
      ]
    },
    {
      "cell_type": "code",
      "source": [
        "# 2. Write a python program that displays your name and age\n",
        "name = input(print(\"Enter your name: \"))\n",
        "age = input(print(\"Enter your age: \"))\n",
        "print(name, age)"
      ],
      "metadata": {
        "colab": {
          "base_uri": "https://localhost:8080/"
        },
        "id": "2Ekkcg1iqsjP",
        "outputId": "7331d3a6-ccda-48a3-9da0-1506bc741aca"
      },
      "execution_count": 3,
      "outputs": [
        {
          "output_type": "stream",
          "name": "stdout",
          "text": [
            "Enter your name\n",
            "NoneNikunj\n",
            "Enter your age\n",
            "None35\n",
            "Nikunj 35\n"
          ]
        }
      ]
    },
    {
      "cell_type": "code",
      "source": [
        "# 3. Write code to print all the pre-defined keywords in python using the keyword library\n",
        "import keyword\n",
        "print(keyword.kwlist)"
      ],
      "metadata": {
        "colab": {
          "base_uri": "https://localhost:8080/"
        },
        "id": "jBkDYtywrQ2d",
        "outputId": "47aee859-0081-4c2b-9160-00bf3214e69f"
      },
      "execution_count": 5,
      "outputs": [
        {
          "output_type": "stream",
          "name": "stdout",
          "text": [
            "['False', 'None', 'True', 'and', 'as', 'assert', 'async', 'await', 'break', 'class', 'continue', 'def', 'del', 'elif', 'else', 'except', 'finally', 'for', 'from', 'global', 'if', 'import', 'in', 'is', 'lambda', 'nonlocal', 'not', 'or', 'pass', 'raise', 'return', 'try', 'while', 'with', 'yield']\n"
          ]
        }
      ]
    },
    {
      "cell_type": "code",
      "source": [
        "# 4. Write a program that checks if a given words is a Python keyword.\n",
        "import keyword\n",
        "word = input(print(\"Enter a word: \"))\n",
        "if keyword.iskeyword(word):\n",
        "    print(word, \"is a Python keyword.\")\n",
        "else:\n",
        "    print(word, \"is not a Python keyword.\")"
      ],
      "metadata": {
        "colab": {
          "base_uri": "https://localhost:8080/"
        },
        "id": "Sv19HgLyscml",
        "outputId": "56df3251-17d2-4437-e653-1e4d1813f791"
      },
      "execution_count": 7,
      "outputs": [
        {
          "output_type": "stream",
          "name": "stdout",
          "text": [
            "Enter a word: \n",
            "Nonenumber\n",
            "number is not a Python keyword.\n"
          ]
        }
      ]
    },
    {
      "cell_type": "code",
      "source": [
        "# 5. Create a list and tuple in python, and demonstarte how attempting to change an element works differently for each.\n",
        "list_example = [1, 2, 3, 4, 5]\n",
        "tuple_example = (1, 2, 3, 4, 5)\n",
        "list_example[0] = 10\n",
        "print(list_example) # Tuple will throw an error because list is mutable where tuple is immutable."
      ],
      "metadata": {
        "colab": {
          "base_uri": "https://localhost:8080/"
        },
        "id": "KIAzAOnEs6_7",
        "outputId": "d5f2886a-12a9-44db-848b-910de2644f2c"
      },
      "execution_count": 8,
      "outputs": [
        {
          "output_type": "stream",
          "name": "stdout",
          "text": [
            "[10, 2, 3, 4, 5]\n"
          ]
        }
      ]
    },
    {
      "cell_type": "code",
      "source": [
        "# 6. Write a function to demonstarte the behaviour of mutable and immutable arguments.\n",
        "def new_argument(immutable_arg, mutable_arg):\n",
        "    print(\"Inside function before modification:\")\n",
        "    print(\"Immutable argument:\", immutable_arg)\n",
        "    print(\"Mutable argument:\", mutable_arg)\n",
        "\n",
        "    immutable_arg += 10\n",
        "\n",
        "    mutable_arg.append(100)\n",
        "\n",
        "    print(\"Inside function after modification:\")\n",
        "    print(\"Immutable argument (after += 10):\", immutable_arg)\n",
        "    print(\"Mutable argument (after append):\", mutable_arg)\n",
        "\n",
        "immutable_value = 5\n",
        "mutable_value = [1, 2, 3]\n",
        "\n",
        "print(\"Before function call:\")\n",
        "print(\"Immutable:\", immutable_value)\n",
        "print(\"Mutable:\", mutable_value)\n",
        "\n",
        "new_argument(immutable_value, mutable_value)\n",
        "\n",
        "print(\"\\nAfter function call:\")\n",
        "print(\"Immutable:\", immutable_value)\n",
        "print(\"Mutable:\", mutable_value)"
      ],
      "metadata": {
        "colab": {
          "base_uri": "https://localhost:8080/"
        },
        "id": "hPAvMMNatxcD",
        "outputId": "8a66fb36-ea55-472d-a77e-4838db365901"
      },
      "execution_count": 4,
      "outputs": [
        {
          "output_type": "stream",
          "name": "stdout",
          "text": [
            "Before function call:\n",
            "Immutable: 5\n",
            "Mutable: [1, 2, 3]\n",
            "Inside function before modification:\n",
            "Immutable argument: 5\n",
            "Mutable argument: [1, 2, 3]\n",
            "Inside function after modification:\n",
            "Immutable argument (after += 10): 15\n",
            "Mutable argument (after append): [1, 2, 3, 100]\n",
            "\n",
            "After function call:\n",
            "Immutable: 5\n",
            "Mutable: [1, 2, 3, 100]\n"
          ]
        }
      ]
    },
    {
      "cell_type": "code",
      "source": [
        "# 7. Write a program that performs basic arithmetic operations on two user input numbers.\n",
        "number1 = int(input(\"Enter number1: \"))\n",
        "number2 = int(input(\"Enter number2: \"))\n",
        "sum = number1 + number2\n",
        "substraction = number1 - number2\n",
        "multiplication = number1 * number2\n",
        "division = number1 / number2\n",
        "power = number1 ** number2\n",
        "modulus = number1 % number2\n",
        "print(\"Entered first number is: \", number1)\n",
        "print(\"Entered second number is: \", number2)\n",
        "print(\"addition of given numbers are \",sum)\n",
        "print(\"subtraction of given numbers are \", substraction)\n",
        "print(\"multiplication of given numbers are \", multiplication)\n",
        "print(\"division of given numbers are \", division)\n",
        "print(\"power of given numbers are \", power)\n",
        "print(\"modulus of given numbers are \", modulus)"
      ],
      "metadata": {
        "colab": {
          "base_uri": "https://localhost:8080/"
        },
        "id": "na2ydvphmfU7",
        "outputId": "6489e1ac-ed8c-4968-82fb-38d334c7f1ff"
      },
      "execution_count": 11,
      "outputs": [
        {
          "output_type": "stream",
          "name": "stdout",
          "text": [
            "Enter number1: 40\n",
            "Enter number2: 4\n",
            "Entered first number is:  40\n",
            "Entered second number is:  4\n",
            "addition of given numbers are  44\n",
            "subtraction of given numbers are  36\n",
            "multiplication of given numbers are  160\n",
            "division of given numbers are  10.0\n",
            "power of given numbers are  2560000\n",
            "modulus of given numbers are  0\n"
          ]
        }
      ]
    },
    {
      "cell_type": "code",
      "source": [
        "# 8. Write a program to demonstrate the use of logical operators.\n",
        "def logical_operators_demo():\n",
        "    a = True\n",
        "    b = False\n",
        "\n",
        "    print(\"a =\", a)\n",
        "    print(\"b =\", b)\n",
        "\n",
        "    print(\"\\na and b =\", a and b)\n",
        "\n",
        "    print(\"a or b =\", a or b)\n",
        "\n",
        "    print(\"not a =\", not a)\n",
        "    print(\"not b =\", not b)\n",
        "\n",
        "    x = 10\n",
        "    y = 20\n",
        "    print(\"\\nx =\", x)\n",
        "    print(\"y =\", y)\n",
        "\n",
        "    print(\"x > 5 and y < 30:\", x > 5 and y < 30)\n",
        "    print(\"x < 5 or y < 30:\", x < 5 or y < 30)\n",
        "    print(\"not (x == 10):\", not (x == 10))\n",
        "\n",
        "logical_operators_demo()"
      ],
      "metadata": {
        "colab": {
          "base_uri": "https://localhost:8080/"
        },
        "id": "GTgAb0lBmsdU",
        "outputId": "71359d6c-d08e-4af4-b6cb-563778c5a417"
      },
      "execution_count": 12,
      "outputs": [
        {
          "output_type": "stream",
          "name": "stdout",
          "text": [
            "a = True\n",
            "b = False\n",
            "\n",
            "a and b = False\n",
            "a or b = True\n",
            "not a = False\n",
            "not b = True\n",
            "\n",
            "x = 10\n",
            "y = 20\n",
            "x > 5 and y < 30: True\n",
            "x < 5 or y < 30: True\n",
            "not (x == 10): False\n"
          ]
        }
      ]
    },
    {
      "cell_type": "code",
      "source": [
        "# 9. Write a python program to convert user input from string to integer, float and boolean types.\n",
        "def convert_input_types():\n",
        "    user_input = input(\"Enter a value: \")\n",
        "\n",
        "    # Convert to integer\n",
        "    try:\n",
        "        int_val = int(user_input)\n",
        "        print(f\"Integer value: {int_val}\")\n",
        "    except ValueError:\n",
        "        print(\"Conversion to Integer failed.\")\n",
        "\n",
        "    # Convert to float\n",
        "    try:\n",
        "        float_val = float(user_input)\n",
        "        print(f\"Float value: {float_val}\")\n",
        "    except ValueError:\n",
        "        print(\"Conversion to Float failed.\")\n",
        "\n",
        "    # Convert to boolean\n",
        "    input_lower = user_input.strip().lower()\n",
        "    true_values = ['true', '1', 'yes', 'y']\n",
        "    false_values = ['false', '0', 'no', 'n']\n",
        "\n",
        "    if input_lower in true_values:\n",
        "        print(\"Boolean value: True\")\n",
        "    elif input_lower in false_values:\n",
        "        print(\"Boolean value: False\")\n",
        "    else:\n",
        "        print(\"Conversion to Boolean failed.\")\n",
        "\n",
        "# Run the program\n",
        "convert_input_types()"
      ],
      "metadata": {
        "colab": {
          "base_uri": "https://localhost:8080/"
        },
        "id": "GgyyTQRzm_GD",
        "outputId": "a734a5bf-56e5-4abe-d1b2-782c649764b1"
      },
      "execution_count": 10,
      "outputs": [
        {
          "output_type": "stream",
          "name": "stdout",
          "text": [
            "Enter a value: True\n",
            "Conversion to Integer failed.\n",
            "Conversion to Float failed.\n",
            "Boolean value: True\n"
          ]
        }
      ]
    },
    {
      "cell_type": "code",
      "source": [
        "# 10. Write code to demonstrate type casting with list elements.\n",
        "string_list = ['10', '20', '30', '40', '50']\n",
        "\n",
        "int_list = [int(item) for item in string_list]\n",
        "print(\"Converted to Integers:\", int_list)\n",
        "\n",
        "float_list = [float(item) for item in string_list]\n",
        "print(\"Converted to Floats:\", float_list)\n",
        "\n",
        "bool_list = [bool(item) for item in string_list]\n",
        "print(\"Converted to Booleans:\", bool_list)\n",
        "\n",
        "str_list = [str(item) for item in int_list]\n",
        "print(\"Integers converted back to Strings:\", str_list)"
      ],
      "metadata": {
        "colab": {
          "base_uri": "https://localhost:8080/"
        },
        "id": "9lOb1vUknNfH",
        "outputId": "2686a5dc-ea94-4966-9d57-2d93be063994"
      },
      "execution_count": 5,
      "outputs": [
        {
          "output_type": "stream",
          "name": "stdout",
          "text": [
            "Converted to Integers: [10, 20, 30, 40, 50]\n",
            "Converted to Floats: [10.0, 20.0, 30.0, 40.0, 50.0]\n",
            "Converted to Booleans: [True, True, True, True, True]\n",
            "Integers converted back to Strings: ['10', '20', '30', '40', '50']\n"
          ]
        }
      ]
    },
    {
      "cell_type": "code",
      "source": [
        "# 11. Write a program that checks if a number is. positive, negative or zero.\n",
        "number = int(input(\"Enter a number: \"))\n",
        "if number > 0:\n",
        "  print (\"The given number is positive.\")\n",
        "elif number < 0:\n",
        "  print (\"The given number is negative.\")\n",
        "else:\n",
        "  print (\"The given number is zero.\")"
      ],
      "metadata": {
        "colab": {
          "base_uri": "https://localhost:8080/"
        },
        "id": "F0cZ5PCAnTyf",
        "outputId": "bba07f3e-e587-4dbc-ff10-946d04fb00f6"
      },
      "execution_count": 5,
      "outputs": [
        {
          "output_type": "stream",
          "name": "stdout",
          "text": [
            "Enter a number: 0\n",
            "The given number is zero.\n"
          ]
        }
      ]
    },
    {
      "cell_type": "code",
      "source": [
        "# 12. Write a for loop to print numbers from 1 to 10.\n",
        "for i in range (1,11):\n",
        "  print(i)"
      ],
      "metadata": {
        "colab": {
          "base_uri": "https://localhost:8080/"
        },
        "id": "jLWNurn2nid0",
        "outputId": "1b3911de-858b-425d-eec7-e89efae95326"
      },
      "execution_count": 2,
      "outputs": [
        {
          "output_type": "stream",
          "name": "stdout",
          "text": [
            "1\n",
            "2\n",
            "3\n",
            "4\n",
            "5\n",
            "6\n",
            "7\n",
            "8\n",
            "9\n",
            "10\n"
          ]
        }
      ]
    },
    {
      "cell_type": "code",
      "source": [
        "# 13. Write a python program to find the sum of all even numbers between 1 and 50.\n",
        "sum = 0\n",
        "for i in range (1,50):\n",
        "  if i % 2 == 0:\n",
        "    sum = sum + i\n",
        "  else:\n",
        "    continue\n",
        "print (sum)"
      ],
      "metadata": {
        "colab": {
          "base_uri": "https://localhost:8080/"
        },
        "id": "SlBSF6kunoBi",
        "outputId": "46e564e4-5dd5-4f6b-a21e-8cf0a1e8287e"
      },
      "execution_count": 8,
      "outputs": [
        {
          "output_type": "stream",
          "name": "stdout",
          "text": [
            "600\n"
          ]
        }
      ]
    },
    {
      "cell_type": "code",
      "source": [
        "# 14. Write a program to reverse a string using a while loop.\n",
        "user_input = input(\"Enter any string: \")\n",
        "reverse_string = \"\"\n",
        "length = len(user_input)-1\n",
        "while length>=0:\n",
        "  reverse_string = reverse_string + user_input[length]\n",
        "  length = length - 1\n",
        "print (\"Reverse string of\",user_input,\"is\",reverse_string)"
      ],
      "metadata": {
        "colab": {
          "base_uri": "https://localhost:8080/"
        },
        "id": "F0vOcie8nzZ8",
        "outputId": "4ada2e39-4dd3-43ce-b603-e9394444408d"
      },
      "execution_count": 3,
      "outputs": [
        {
          "output_type": "stream",
          "name": "stdout",
          "text": [
            "Enter any string: INDIA\n",
            "Reverse string of INDIA is AIDNI\n"
          ]
        }
      ]
    },
    {
      "cell_type": "code",
      "source": [
        "# 15. Write a Python program to calculate the factorial of a number provided by the user using a while loop.\n",
        "user_input = int(input(\"Enter any positive number: \"))\n",
        "original_input = user_input\n",
        "fact = 1\n",
        "if user_input == 0:\n",
        "  print (\"Factorial of a 0! is 1. \")\n",
        "else:\n",
        "  while user_input >= 1:\n",
        "    fact = user_input * fact\n",
        "    user_input = user_input - 1\n",
        "print (\"Factorial of a given number\",original_input,\"! is\",fact,\".\")"
      ],
      "metadata": {
        "colab": {
          "base_uri": "https://localhost:8080/"
        },
        "id": "lH0uqWCLn6TQ",
        "outputId": "e73e8829-78f9-4654-8097-dd36fb601c75"
      },
      "execution_count": 1,
      "outputs": [
        {
          "output_type": "stream",
          "name": "stdout",
          "text": [
            "Enter any positive number: 5\n",
            "Factorial of a given number 5 ! is 120 .\n"
          ]
        }
      ]
    },
    {
      "cell_type": "markdown",
      "source": [
        "Python Basics Question:\n",
        "1. What is Python, and why it is popular?\n",
        "-> Python is a high-level, interpreted programming language. It is popular because of it is user-friendly, versatile, good for rapid development, integration capabilities, used by many tech giants and rich set of libraries for any complex problem solution.\n",
        "\n",
        "2. What is an interpreter in Python?\n",
        "-> An interpreter in Python read and execute Python code line-by-line. It translates python code into bytecode as in JAVA and execute it using Python Virtual Machine (like JVM in JAVA).\n",
        "\n",
        "3. What are pre-defined keywords in Python?\n",
        "-> Pre-defined keywords in Python are the words that has been reserved by programming language for a specific purpose and meaning. ex. True, False, None, if, for while, etc...\n",
        "\n",
        "4. Can Keywords be used as variable names?\n",
        "-> No, keywords can not be used as variable names as these words are reserved by the python language with specific meaning and purpose.\n",
        "\n",
        "5. What is mutability in Python?\n",
        "-> Mutability in python means whatever value we assigned that has been changed after the assignment in the programming. ex. List, Dictonary are the mutable object in Python.\n",
        "\n",
        "6. Why are lists mutable but tuples are immutable?\n",
        "-> Basically lists are designed for the purpose of to store collections of items and that might be changed so lists are mutable because min the mutable object we can change the values whereas tuples are designed to store fixed collection of items that can not be change so tuples are immutable because in immutable object we can not change the values in object.\n",
        "\n",
        "7. What is the difference between \"==\" and \"is\" operator in Python?\n",
        "-> \"==\" operator compares the values of two objects and returns True if both the values are equal. \"is\" operator compares the memory location  and returns True if both the variables point to the same object in memory.\n",
        "\n",
        "8. What are logical operators in Python?\n",
        "-> Logical operators are useful for performing boolean logic operations which returns True or False. Three types of logical operators are there: AND, OR and NOT. AND returns True when both the conditions are True. OR returns True when at keast one condition is True. NOT returns the reverse result of the condition.\n",
        "\n",
        "9. What is type casting in Python?\n",
        "-> Type casting is the process in which one type of data type is converting into another data type.\n",
        "\n",
        "10. What is the difference between implicit and explicit type catsing?\n",
        "-> Implicit Type Casting can be perform by python automatically and no data loss will be there. Explicit type casting can be done by programmer manually using the bulit in functions like int(), float(), str() and bool().\n",
        "\n",
        "11. What is the purpose of condition statements in Pyton?\n",
        "-> Conditional statements are useful for make decisions based on certain conditions, it controls the flow of execution which makes program dynamically, depending on input or some conditions.\n",
        "\n",
        "12. How does the elif statement work?\n",
        "-> The \"elif\" is a short form of \"else if\" which is used to check multiple conditions in a sentence. It allows us to check conditions in a sequential order and in the block in which condition met, that particular block will execute and remain blocks will be skipped.\n",
        "\n",
        "13. What is the diffrence between for and while loops?\n",
        "-> For loop is useful in which we have idea baout the number of iterations whereas while is useful in which block of code will be repeated untill condition is True.\n",
        "\n",
        "14. Describe the scenario where a while loop is more suitable than a for loop.\n",
        "-> If you don't know the number of iterations in advanced, in that case you need to continue untill a certain condition is met.\n"
      ],
      "metadata": {
        "id": "MR_eNMWNnmnc"
      }
    }
  ]
}